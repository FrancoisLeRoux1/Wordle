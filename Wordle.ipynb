{
 "cells": [
  {
   "cell_type": "markdown",
   "metadata": {},
   "source": [
    "# Wordle"
   ]
  },
  {
   "cell_type": "markdown",
   "metadata": {},
   "source": [
    "## Solving method"
   ]
  },
  {
   "cell_type": "code",
   "execution_count": null,
   "metadata": {},
   "outputs": [],
   "source": [
    "import numpy as np\n",
    "import matplotlib.image as mpimg\n",
    "import matplotlib.pyplot as plt\n",
    "from tqdm.notebook import tqdm\n",
    "from collections import defaultdict\n",
    "import ipywidgets as widgets\n",
    "from ipywidgets import interactive_output, fixed"
   ]
  },
  {
   "cell_type": "code",
   "execution_count": null,
   "metadata": {},
   "outputs": [],
   "source": [
    "with open('wordle-answers-alphabetical.txt', 'r') as file:\n",
    "    possible_answers = file.read().splitlines() \n",
    "    \n",
    "with open('wordle-allowed-guesses.txt', 'r') as file:\n",
    "    words_allowed_guesses = file.read().splitlines() \n",
    "words_allowed_guesses = words_allowed_guesses + possible_answers\n",
    "\n",
    "print(\"Number of possible answer words:\", len(possible_answers))\n",
    "print(\"Number of accepted guess words:\", len(words_allowed_guesses))"
   ]
  },
  {
   "cell_type": "code",
   "execution_count": null,
   "metadata": {},
   "outputs": [],
   "source": [
    "letters = [letter for letter in \"azertyuiopqsdfghjklmwxcvbn\"]\n",
    "letter_imgs = {letter: mpimg.imread(f\"letters/{letter}.png\") for letter in letters}\n",
    "\n",
    "def display_word(word):\n",
    "    if word == \"\": return\n",
    "    letters = [letter_imgs[letter] for letter in word]\n",
    "    plt.figure()\n",
    "    plt.imshow(np.concatenate(letters, axis=1))\n",
    "    plt.axis('off')\n",
    "    plt.show()"
   ]
  },
  {
   "cell_type": "code",
   "execution_count": null,
   "metadata": {},
   "outputs": [],
   "source": [
    "display_word(\"hello\")"
   ]
  },
  {
   "cell_type": "code",
   "execution_count": null,
   "metadata": {},
   "outputs": [],
   "source": [
    "def compare_words(query_word, answer_word):\n",
    "    res = []\n",
    "    pos_not_found = []\n",
    "    letters_not_found = []\n",
    "    for (i, letter1), letter2 in zip(enumerate(query_word), answer_word):\n",
    "        if letter1 == letter2:\n",
    "            res.append('2')\n",
    "        else:\n",
    "            res.append('0')\n",
    "            pos_not_found.append(i)\n",
    "            letters_not_found.append(letter2)\n",
    "    for i in pos_not_found:\n",
    "        if query_word[i] in letters_not_found:\n",
    "            res[i] = \"1\"\n",
    "            letters_not_found.remove(query_word[i])\n",
    "    return \"\".join(res)"
   ]
  },
  {
   "cell_type": "code",
   "execution_count": null,
   "metadata": {},
   "outputs": [],
   "source": [
    "compare_words(\"raise\", \"gorge\")"
   ]
  },
  {
   "cell_type": "markdown",
   "metadata": {},
   "source": [
    "$ score(word) = \\sum_{letter  \\in  word}\\frac{1}{rank(letter)} $"
   ]
  },
  {
   "cell_type": "code",
   "execution_count": null,
   "metadata": {},
   "outputs": [],
   "source": [
    "def filter_words(possible_words, word, comparison_string):\n",
    "    new_possible_words = []\n",
    "    for w in possible_words:\n",
    "        if compare_words(word, w) == comparison_string:\n",
    "            new_possible_words.append(w)\n",
    "    return new_possible_words"
   ]
  },
  {
   "cell_type": "code",
   "execution_count": null,
   "metadata": {},
   "outputs": [],
   "source": [
    "print(filter_words(possible_answers, \"raise\", \"10002\"))"
   ]
  },
  {
   "cell_type": "code",
   "execution_count": null,
   "metadata": {},
   "outputs": [],
   "source": [
    "letters_by_frequency = \"eariotnslcudpmhgbfywkvxzjq\"\n",
    "letters_scores = {letter: 1/(i+1) for i, letter in enumerate(letters_by_frequency)}\n",
    "    \n",
    "def score_word(word):\n",
    "    score = 0\n",
    "    for letter in set(word):\n",
    "        score += letters_scores[letter]\n",
    "    return score"
   ]
  },
  {
   "cell_type": "code",
   "execution_count": null,
   "metadata": {},
   "outputs": [],
   "source": [
    "print(\"raise:\", score_word(\"raise\"))\n",
    "print(\"bumpy:\", score_word(\"bumpy\"))"
   ]
  },
  {
   "cell_type": "code",
   "execution_count": null,
   "metadata": {},
   "outputs": [],
   "source": [
    "def solver(comparison_string, word, possible_words):\n",
    "    possible_words = filter_words(possible_words, word, comparison_string)\n",
    "    if len(possible_words) == 0:\n",
    "        print(\"No possible word in vocabulary.\")\n",
    "        return \"\", []\n",
    "    else:\n",
    "        words_sorted = sorted(possible_words, key=score_word, reverse=True)\n",
    "        word = words_sorted[0]\n",
    "        return word, possible_words\n",
    "\n",
    "def solver_interactive(letter_1, letter_2, letter_3, letter_4, letter_5,\n",
    "                       next_word=False, restart=False, solver=None):\n",
    "    if restart:\n",
    "        global word\n",
    "        global possible_words\n",
    "        restart = False\n",
    "        restart_button.value = False\n",
    "        for radio_button in radio_buttons:\n",
    "            radio_button.value = \"0\"\n",
    "        possible_words = possible_answers\n",
    "        word = starting_word\n",
    "        display_word(word)\n",
    "    if next_word:\n",
    "        next_word = False\n",
    "        next_word_button.value = False\n",
    "        comparison_string = letter_1 + letter_2 + letter_3 + letter_4 + letter_5\n",
    "        word, possible_words = solver(comparison_string, word, possible_words)\n",
    "        display_word(word)"
   ]
  },
  {
   "cell_type": "markdown",
   "metadata": {},
   "source": [
    "## Improved solving method"
   ]
  },
  {
   "cell_type": "code",
   "execution_count": null,
   "metadata": {},
   "outputs": [],
   "source": [
    "def score_word_improved(query_word, possible_words):\n",
    "    nb_words = len(possible_words)\n",
    "    comparison_dict = defaultdict(int)\n",
    "    for word in possible_words:\n",
    "        comparison_dict[compare_words(query_word, word)] += 1\n",
    "    return sum(word_count / nb_words * word_count for word_count in comparison_dict.values())"
   ]
  },
  {
   "cell_type": "code",
   "execution_count": null,
   "metadata": {},
   "outputs": [],
   "source": [
    "def best_starting_word(possible_guesses, possible_answers, topn=20):\n",
    "    word_scores = []\n",
    "    for word in tqdm(possible_guesses):\n",
    "        word_scores.append((word, score_word_improved(word, possible_answers)))\n",
    "    word_scores = sorted(word_scores, key=lambda x: x[1])\n",
    "    for i in range(topn):\n",
    "        print(f\"{word_scores[i][0]} : {word_scores[i][1]}\")"
   ]
  },
  {
   "cell_type": "code",
   "execution_count": null,
   "metadata": {},
   "outputs": [],
   "source": [
    "best_starting_word(words_allowed_guesses, possible_answers)"
   ]
  },
  {
   "cell_type": "code",
   "execution_count": null,
   "metadata": {},
   "outputs": [],
   "source": [
    "def solver_improved(comparison_string, word, possible_words):\n",
    "    possible_words = filter_words(possible_words, word, comparison_string)\n",
    "    if len(possible_words) == 0:\n",
    "        print(\"No possible word in vocabulary.\")\n",
    "        return \"\", []\n",
    "    else:\n",
    "        words_sorted = sorted(possible_words, key=lambda x: score_word_improved(x, possible_words))\n",
    "        word = words_sorted[0]\n",
    "        return word, possible_words\n",
    "    \n",
    "    \n",
    "def solver_super_improved(comparison_string, word, possible_words):\n",
    "    possible_words = filter_words(possible_words, word, comparison_string)\n",
    "    if len(possible_words) == 0:\n",
    "        print(\"No possible word in vocabulary.\")\n",
    "        return \"\", []\n",
    "    else:\n",
    "        if len(possible_words) <= 3:\n",
    "            words_sorted = sorted(possible_words, key=lambda x: score_word_improved(x, possible_words))\n",
    "        else:\n",
    "            words_sorted = sorted(words_allowed_guesses, key=lambda x: score_word_improved(x, possible_words))\n",
    "        word = words_sorted[0]\n",
    "        return word, possible_words"
   ]
  },
  {
   "cell_type": "markdown",
   "metadata": {},
   "source": [
    "## Interactive solver"
   ]
  },
  {
   "cell_type": "code",
   "execution_count": null,
   "metadata": {},
   "outputs": [],
   "source": [
    "possibilities = [(\"Not in word\", \"0\"), (\"In word, wrong spot\", \"1\"), (\"In word, correct spot\", \"2\")]\n",
    "radio_buttons = []\n",
    "for i in range(5):\n",
    "    radio_button = widgets.RadioButtons(options=possibilities, value=\"0\", description=f\"Letter {i+1}:\",\n",
    "                                        layout={'width': 'max-content'})\n",
    "    radio_buttons.append(radio_button)\n",
    "next_word_button = widgets.ToggleButton(value=False, description='Next word')\n",
    "restart_button = widgets.ToggleButton(value=True, description='Restart')\n",
    "solver_button = widgets.Dropdown(options=[(\"Base solver\", solver), (\"Improved solver\", solver_improved),\n",
    "                                          (\"Super improved solver\", solver_super_improved) ])\n",
    "first_vbox = widgets.VBox([radio_buttons[0], next_word_button])\n",
    "second_vbox = widgets.VBox([radio_buttons[1], restart_button])\n",
    "third_vbox = widgets.VBox([radio_buttons[2], solver_button])\n",
    "ui = widgets.HBox([first_vbox, second_vbox, third_vbox] + radio_buttons[3:], box_style=\"info\")\n",
    "\n",
    "buttons_dict = {f\"letter_{i+1}\": radio_buttons[i] for i in range(5)}\n",
    "buttons_dict[\"next_word\"] = next_word_button\n",
    "buttons_dict[\"restart\"] = restart_button\n",
    "buttons_dict[\"solver\"] = solver_button"
   ]
  },
  {
   "cell_type": "code",
   "execution_count": null,
   "metadata": {},
   "outputs": [],
   "source": [
    "starting_word = \"raise\"\n",
    "possible_words = possible_answers\n",
    "\n",
    "restart_button.value = True\n",
    "out = interactive_output(solver_interactive, buttons_dict)\n",
    "display(ui, out)"
   ]
  },
  {
   "cell_type": "markdown",
   "metadata": {},
   "source": [
    "## Evalutating solutions"
   ]
  },
  {
   "cell_type": "code",
   "execution_count": null,
   "metadata": {},
   "outputs": [],
   "source": [
    "def test_solution(answer_word, solver, starting_word=\"tares\"):\n",
    "    word = starting_word\n",
    "    possible_words = possible_answers\n",
    "    attempts = 1\n",
    "    while attempts < 20:\n",
    "        if word == answer_word:\n",
    "            return attempts\n",
    "        attempts += 1\n",
    "        comparison_string = compare_words(word, answer_word)\n",
    "        word, possible_words = solver(comparison_string, word, possible_words)\n",
    "    return attempts\n",
    "\n",
    "def evaluate_solver(possible_words, solver, starting_word=\"mount\"):\n",
    "    solves = []\n",
    "    for word in tqdm(possible_answers):\n",
    "        solves.append((word, test_solution(word, solver, starting_word=starting_word)))\n",
    "    mean_attempts = sum([solve[1] for solve in solves])/len(solves)\n",
    "    print(f\"Mean number of attempts: {mean_attempts}\")\n",
    "    failed = [solve[0] for solve in solves if solve[1] > 6]\n",
    "    print(f\"Failed words (more than 6 attempts): {len(failed)}\")\n",
    "    print(\", \".join(failed))"
   ]
  },
  {
   "cell_type": "code",
   "execution_count": null,
   "metadata": {},
   "outputs": [],
   "source": [
    "evaluate_solver(possible_answers, solver, starting_word=\"raise\")"
   ]
  },
  {
   "cell_type": "code",
   "execution_count": null,
   "metadata": {},
   "outputs": [],
   "source": [
    "evaluate_solver(possible_answers, solver, starting_word=\"tares\")"
   ]
  },
  {
   "cell_type": "code",
   "execution_count": null,
   "metadata": {},
   "outputs": [],
   "source": [
    "evaluate_solver(possible_answers, solver_improved, starting_word=\"roate\")"
   ]
  },
  {
   "cell_type": "code",
   "execution_count": null,
   "metadata": {},
   "outputs": [],
   "source": [
    "evaluate_solver(possible_answers, solver_super_improved, starting_word=\"roate\")"
   ]
  },
  {
   "cell_type": "code",
   "execution_count": null,
   "metadata": {},
   "outputs": [],
   "source": []
  }
 ],
 "metadata": {
  "language_info": {
   "name": "python",
   "pygments_lexer": "ipython3"
  }
 },
 "nbformat": 4,
 "nbformat_minor": 5
}
